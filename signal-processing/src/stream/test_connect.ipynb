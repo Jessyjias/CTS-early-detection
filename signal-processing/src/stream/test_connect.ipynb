{
 "cells": [
  {
   "cell_type": "code",
   "execution_count": 1,
   "metadata": {},
   "outputs": [
    {
     "ename": "ModuleNotFoundError",
     "evalue": "No module named 'brainflow.board_shim'; 'brainflow' is not a package",
     "output_type": "error",
     "traceback": [
      "\u001b[0;31m---------------------------------------------------------------------------\u001b[0m",
      "\u001b[0;31mModuleNotFoundError\u001b[0m                       Traceback (most recent call last)",
      "Cell \u001b[0;32mIn [1], line 4\u001b[0m\n\u001b[1;32m      1\u001b[0m \u001b[39mimport\u001b[39;00m \u001b[39margparse\u001b[39;00m\n\u001b[1;32m      2\u001b[0m \u001b[39mimport\u001b[39;00m \u001b[39mtime\u001b[39;00m\n\u001b[0;32m----> 4\u001b[0m \u001b[39mfrom\u001b[39;00m \u001b[39mbrainflow\u001b[39;00m\u001b[39m.\u001b[39;00m\u001b[39mboard_shim\u001b[39;00m \u001b[39mimport\u001b[39;00m BoardShim, BrainFlowInputParams, BoardIds, BrainFlowPresets\n\u001b[1;32m      5\u001b[0m \u001b[39m# def main():\u001b[39;00m\n\u001b[1;32m      6\u001b[0m \u001b[39m#     BoardShim.enable_dev_board_logger()\u001b[39;00m\n\u001b[1;32m      7\u001b[0m \n\u001b[0;32m   (...)\u001b[0m\n\u001b[1;32m     48\u001b[0m \n\u001b[1;32m     49\u001b[0m \u001b[39m#     print(data)\u001b[39;00m\n",
      "File \u001b[0;32m~/Documents/Github-Projects/CTS-early-detection/signal-processing/src/stream/brainflow.py:5\u001b[0m\n\u001b[1;32m      3\u001b[0m \u001b[39mimport\u001b[39;00m \u001b[39mbrainflow\u001b[39;00m \u001b[39mas\u001b[39;00m \u001b[39mbf\u001b[39;00m\n\u001b[1;32m      4\u001b[0m \u001b[39m# from brainflow.board_shim import BoardShim, BrainFlowInputParams, BoardIds, BrainFlowPresets\u001b[39;00m\n\u001b[0;32m----> 5\u001b[0m \u001b[39mfrom\u001b[39;00m \u001b[39mbrainflow\u001b[39;00m\u001b[39m.\u001b[39;00m\u001b[39mboard_shim\u001b[39;00m \u001b[39mimport\u001b[39;00m \u001b[39m*\u001b[39m\n\u001b[1;32m      7\u001b[0m \u001b[39mdef\u001b[39;00m \u001b[39mmain\u001b[39m():\n\u001b[1;32m      8\u001b[0m     bf\u001b[39m.\u001b[39mboard_shim\u001b[39m.\u001b[39mBoardShim\u001b[39m.\u001b[39menable_dev_board_logger()\n",
      "\u001b[0;31mModuleNotFoundError\u001b[0m: No module named 'brainflow.board_shim'; 'brainflow' is not a package"
     ]
    }
   ],
   "source": [
    "import argparse\n",
    "import time\n",
    "\n",
    "from brainflow.board_shim import BoardShim, BrainFlowInputParams, BoardIds, BrainFlowPresets\n",
    "# def main():\n",
    "#     BoardShim.enable_dev_board_logger()\n",
    "\n",
    "#     parser = argparse.ArgumentParser()\n",
    "#     # use docs to check which parameters are required for specific board, e.g. for Cyton - set serial port\n",
    "#     parser.add_argument('--timeout', type=int, help='timeout for device discovery or connection', required=False,\n",
    "#                         default=0)\n",
    "#     parser.add_argument('--ip-port', type=int, help='ip port', required=False, default=0)\n",
    "#     parser.add_argument('--ip-protocol', type=int, help='ip protocol, check IpProtocolType enum', required=False,\n",
    "#                         default=0)\n",
    "#     parser.add_argument('--ip-address', type=str, help='ip address', required=False, default='')\n",
    "#     parser.add_argument('--serial-port', type=str, help='serial port', required=False, default='/dev/cu.usbserial-DM00Q822')\n",
    "#     parser.add_argument('--mac-address', type=str, help='mac address', required=False, default='')\n",
    "#     parser.add_argument('--other-info', type=str, help='other info', required=False, default='')\n",
    "#     parser.add_argument('--serial-number', type=str, help='serial number', required=False, default='')\n",
    "#     parser.add_argument('--board-id', type=int, help='board id, check docs to get a list of supported boards',\n",
    "#                         required=True)\n",
    "#     parser.add_argument('--file', type=str, help='file', required=False, default='')\n",
    "#     parser.add_argument('--master-board', type=int, help='master board id for streaming and playback boards',\n",
    "#                         required=False, default=BoardIds.CYTON_BOARD)\n",
    "#     args = parser.parse_args()\n",
    "\n",
    "#     params = BrainFlowInputParams()\n",
    "#     params.ip_port = args.ip_port\n",
    "#     params.serial_port = args.serial_port\n",
    "#     params.mac_address = args.mac_address\n",
    "#     params.other_info = args.other_info\n",
    "#     params.serial_number = args.serial_number\n",
    "#     params.ip_address = args.ip_address\n",
    "#     params.ip_protocol = args.ip_protocol\n",
    "#     params.timeout = args.timeout\n",
    "#     params.file = args.file\n",
    "#     params.master_board = args.master_board\n",
    "\n",
    "#     board_id = BoardIds.CYTON_BOARD\n",
    "#     board = BoardShim(board_id, params)\n",
    "#     board.prepare_session()\n",
    "#     board.start_stream ()\n",
    "#     time.sleep(10)\n",
    "#     # data = board.get_current_board_data (256) # get latest 256 packages or less, doesnt remove them from internal buffer\n",
    "#     data = board.get_board_data()  # get all data and remove it from internal buffer\n",
    "#     board.stop_stream()\n",
    "#     board.release_session()\n",
    "\n",
    "#     print(data)"
   ]
  }
 ],
 "metadata": {
  "kernelspec": {
   "display_name": "env_capstone",
   "language": "python",
   "name": "python3"
  },
  "language_info": {
   "codemirror_mode": {
    "name": "ipython",
    "version": 3
   },
   "file_extension": ".py",
   "mimetype": "text/x-python",
   "name": "python",
   "nbconvert_exporter": "python",
   "pygments_lexer": "ipython3",
   "version": "3.11.0"
  },
  "orig_nbformat": 4,
  "vscode": {
   "interpreter": {
    "hash": "2c7dd4b60ea0a2a5b5bca9b813afc926f2abf773e86efa74bef484d91ca657ad"
   }
  }
 },
 "nbformat": 4,
 "nbformat_minor": 2
}
